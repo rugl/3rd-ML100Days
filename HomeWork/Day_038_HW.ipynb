{
 "cells": [
  {
   "cell_type": "markdown",
   "metadata": {},
   "source": [
    "## [作業重點]\n",
    "使用 Sklearn 中的線性迴歸模型，來訓練各種資料集，務必了解送進去模型訓練的**資料型態**為何，也請了解模型中各項參數的意義"
   ]
  },
  {
   "cell_type": "markdown",
   "metadata": {},
   "source": [
    "## 作業\n",
    "試著使用 sklearn datasets 的其他資料集 (wine, boston, ...)，來訓練自己的線性迴歸模型。"
   ]
  },
  {
   "cell_type": "markdown",
   "metadata": {},
   "source": [
    "### HINT: 注意 label 的型態，確定資料集的目標是分類還是回歸，在使用正確的模型訓練！"
   ]
  },
  {
   "cell_type": "code",
   "execution_count": 204,
   "metadata": {},
   "outputs": [],
   "source": [
    "import numpy as np\n",
    "import matplotlib.pyplot as plt\n",
    "from sklearn import datasets, linear_model\n",
    "from sklearn.model_selection import train_test_split\n",
    "from sklearn.metrics import mean_squared_error, r2_score, accuracy_score"
   ]
  },
  {
   "cell_type": "code",
   "execution_count": 205,
   "metadata": {},
   "outputs": [
    {
     "name": "stdout",
     "output_type": "stream",
     "text": [
      "Data shape:  [[3.06]\n",
      " [2.76]\n",
      " [3.24]\n",
      " [3.49]\n",
      " [2.69]\n",
      " [3.39]\n",
      " [2.52]\n",
      " [2.51]\n",
      " [2.98]\n",
      " [3.15]\n",
      " [3.32]\n",
      " [2.43]\n",
      " [2.76]\n",
      " [3.69]\n",
      " [3.64]\n",
      " [2.91]\n",
      " [3.14]\n",
      " [3.4 ]\n",
      " [3.93]\n",
      " [3.03]\n",
      " [3.17]\n",
      " [2.41]\n",
      " [2.88]\n",
      " [2.37]\n",
      " [2.61]\n",
      " [2.68]\n",
      " [2.94]\n",
      " [2.19]\n",
      " [2.97]\n",
      " [2.33]\n",
      " [3.25]\n",
      " [3.19]\n",
      " [2.69]\n",
      " [2.74]\n",
      " [2.53]\n",
      " [2.98]\n",
      " [2.68]\n",
      " [2.43]\n",
      " [2.64]\n",
      " [3.04]\n",
      " [3.29]\n",
      " [2.68]\n",
      " [3.56]\n",
      " [2.63]\n",
      " [3.  ]\n",
      " [2.65]\n",
      " [3.17]\n",
      " [3.39]\n",
      " [2.92]\n",
      " [3.54]\n",
      " [3.27]\n",
      " [2.99]\n",
      " [3.74]\n",
      " [2.79]\n",
      " [2.9 ]\n",
      " [2.78]\n",
      " [3.  ]\n",
      " [3.23]\n",
      " [3.67]\n",
      " [0.57]\n",
      " [1.09]\n",
      " [1.41]\n",
      " [1.79]\n",
      " [3.1 ]\n",
      " [1.75]\n",
      " [2.65]\n",
      " [3.18]\n",
      " [2.  ]\n",
      " [1.3 ]\n",
      " [1.28]\n",
      " [1.02]\n",
      " [2.86]\n",
      " [1.84]\n",
      " [2.89]\n",
      " [2.14]\n",
      " [1.57]\n",
      " [2.03]\n",
      " [1.32]\n",
      " [1.85]\n",
      " [2.55]\n",
      " [2.26]\n",
      " [2.53]\n",
      " [1.58]\n",
      " [1.59]\n",
      " [2.21]\n",
      " [1.94]\n",
      " [1.69]\n",
      " [1.61]\n",
      " [1.69]\n",
      " [1.59]\n",
      " [1.5 ]\n",
      " [1.25]\n",
      " [1.46]\n",
      " [2.25]\n",
      " [2.26]\n",
      " [2.27]\n",
      " [0.99]\n",
      " [2.5 ]\n",
      " [3.75]\n",
      " [2.99]\n",
      " [2.17]\n",
      " [1.36]\n",
      " [2.11]\n",
      " [1.64]\n",
      " [1.92]\n",
      " [1.84]\n",
      " [2.03]\n",
      " [1.76]\n",
      " [2.04]\n",
      " [2.92]\n",
      " [2.58]\n",
      " [2.27]\n",
      " [2.03]\n",
      " [2.01]\n",
      " [2.29]\n",
      " [2.17]\n",
      " [1.6 ]\n",
      " [2.09]\n",
      " [1.25]\n",
      " [1.64]\n",
      " [2.79]\n",
      " [5.08]\n",
      " [2.13]\n",
      " [2.65]\n",
      " [3.03]\n",
      " [2.65]\n",
      " [3.15]\n",
      " [2.24]\n",
      " [2.45]\n",
      " [1.75]\n",
      " [1.25]\n",
      " [1.22]\n",
      " [1.09]\n",
      " [1.2 ]\n",
      " [0.58]\n",
      " [0.66]\n",
      " [0.47]\n",
      " [0.6 ]\n",
      " [0.48]\n",
      " [0.6 ]\n",
      " [0.5 ]\n",
      " [0.5 ]\n",
      " [0.52]\n",
      " [0.8 ]\n",
      " [0.78]\n",
      " [0.55]\n",
      " [0.34]\n",
      " [0.65]\n",
      " [0.76]\n",
      " [1.39]\n",
      " [1.57]\n",
      " [1.36]\n",
      " [1.28]\n",
      " [0.83]\n",
      " [0.58]\n",
      " [0.63]\n",
      " [0.83]\n",
      " [0.58]\n",
      " [1.31]\n",
      " [1.1 ]\n",
      " [0.92]\n",
      " [0.56]\n",
      " [0.6 ]\n",
      " [0.7 ]\n",
      " [0.68]\n",
      " [0.47]\n",
      " [0.92]\n",
      " [0.66]\n",
      " [0.84]\n",
      " [0.96]\n",
      " [0.49]\n",
      " [0.51]\n",
      " [0.7 ]\n",
      " [0.61]\n",
      " [0.75]\n",
      " [0.69]\n",
      " [0.68]\n",
      " [0.76]]\n"
     ]
    }
   ],
   "source": [
    "#Wine Logistics regression \n",
    "wine = datasets.load_wine()\n",
    "X = wine.data[:, np.newaxis, 6]\n",
    "print(\"Data shape: \", X)\n",
    "# 切分訓練集/測試集\n",
    "x_train, x_test, y_train, y_test = train_test_split(X, wine.target, test_size=0.1, random_state=1)\n",
    "\n",
    "# 建立模型\n",
    "logreg = linear_model.LogisticRegression(solver ='lbfgs', multi_class =  'auto' , max_iter = 10000)\n",
    "\n",
    "# 訓練模型\n",
    "logreg.fit(x_train, y_train)\n",
    "y_pred = logreg.predict(x_test)"
   ]
  },
  {
   "cell_type": "code",
   "execution_count": 206,
   "metadata": {},
   "outputs": [
    {
     "name": "stdout",
     "output_type": "stream",
     "text": [
      "Coefficients:  [[ 2.51585391]\n",
      " [ 0.49804599]\n",
      " [-3.01389991]]\n",
      "Mean squared error: 0.11\n",
      "Accuracy:  0.8888888888888888\n"
     ]
    }
   ],
   "source": [
    "# 可以看回歸模型的參數值\n",
    "print('Coefficients: ', logreg.coef_)\n",
    "\n",
    "# 預測值與實際值的差距，使用 MSE\n",
    "print(\"Mean squared error: %.2f\"\n",
    "      % mean_squared_error(y_test, y_pred))\n",
    "\n",
    "# 預測測試集\n",
    "\n",
    "acc = accuracy_score(y_test, y_pred)\n",
    "print(\"Accuracy: \", acc)"
   ]
  },
  {
   "cell_type": "code",
   "execution_count": 207,
   "metadata": {},
   "outputs": [
    {
     "data": {
      "image/png": "[encoded data removed]",
      "text/plain": [
       "<Figure size 432x288 with 1 Axes>"
      ]
     },
     "metadata": {
      "needs_background": "light"
     },
     "output_type": "display_data"
    }
   ],
   "source": [
    "plt.scatter(x_test, y_test, color='black')\n",
    "plt.plot(x_test, y_pred, color='blue', linewidth=3)\n",
    "plt.show()"
   ]
  },
  {
   "cell_type": "code",
   "execution_count": 208,
   "metadata": {},
   "outputs": [],
   "source": [
    "from sklearn.datasets import load_boston"
   ]
  },
  {
   "cell_type": "code",
   "execution_count": 209,
   "metadata": {},
   "outputs": [
    {
     "name": "stdout",
     "output_type": "stream",
     "text": [
      "Data shape:  (506, 13)\n",
      "Coefficients:  [-0.12611805]\n",
      "Mean squared error: 86.78\n"
     ]
    }
   ],
   "source": [
    "#boston linear regression \n",
    "# 為方便視覺化，我們只使用資料集中的 1 個 feature (column)\n",
    "boston = datasets.load_boston()\n",
    "X = boston.data[:, np.newaxis, 6]\n",
    "print(\"Data shape: \", boston.data.shape)\n",
    "\n",
    "# 切分訓練集/測試集\n",
    "x_train, x_test, y_train, y_test = train_test_split(X, boston.target, test_size=0.1, random_state=1)\n",
    "\n",
    "# 建立一個線性回歸模型\n",
    "regr = linear_model.LinearRegression()\n",
    "\n",
    "# 將訓練資料丟進去模型訓練\n",
    "regr.fit(x_train, y_train)\n",
    "\n",
    "# 將測試資料丟進模型得到預測結果\n",
    "y_pred = regr.predict(x_test)\n",
    "# 可以看回歸模型的參數值\n",
    "print('Coefficients: ', regr.coef_)\n",
    "\n",
    "# 預測值與實際值的差距，使用 MSE\n",
    "print(\"Mean squared error: %.2f\"\n",
    "      % mean_squared_error(y_test, y_pred))"
   ]
  },
  {
   "cell_type": "code",
   "execution_count": 210,
   "metadata": {},
   "outputs": [
    {
     "data": {
      "image/png": "[encoded data removed]",
      "text/plain": [
       "<Figure size 432x288 with 1 Axes>"
      ]
     },
     "metadata": {
      "needs_background": "light"
     },
     "output_type": "display_data"
    }
   ],
   "source": [
    "# 畫出回歸模型與實際資料的分佈\n",
    "plt.scatter(x_test, y_test,  color='black')\n",
    "plt.plot(x_test, y_pred, color='blue', linewidth=3)\n",
    "plt.show()"
   ]
  },
  {
   "cell_type": "code",
   "execution_count": 167,
   "metadata": {},
   "outputs": [],
   "source": [
    "from sklearn.datasets import load_breast_cancer"
   ]
  },
  {
   "cell_type": "code",
   "execution_count": 211,
   "metadata": {},
   "outputs": [
    {
     "name": "stdout",
     "output_type": "stream",
     "text": [
      "Data shape:  (569, 30)\n",
      "Coefficients:  [-4.23377536]\n",
      "Mean squared error: 0.16\n"
     ]
    }
   ],
   "source": [
    "#breast_cancer linear regression \n",
    "# 為方便視覺化，我們只使用資料集中的 1 個 feature (column)\n",
    "breast_cancer = load_breast_cancer()\n",
    "X = breast_cancer.data[:, np.newaxis, 6]\n",
    "print(\"Data shape: \", breast_cancer.data.shape)\n",
    "\n",
    "# 切分訓練集/測試集\n",
    "x_train, x_test, y_train, y_test = train_test_split(X, breast_cancer.target, test_size=0.1, random_state=1)\n",
    "\n",
    "# 建立一個線性回歸模型\n",
    "regr = linear_model.LinearRegression()\n",
    "\n",
    "# 將訓練資料丟進去模型訓練\n",
    "regr.fit(x_train, y_train)\n",
    "\n",
    "# 將測試資料丟進模型得到預測結果\n",
    "y_pred = regr.predict(x_test)\n",
    "# 可以看回歸模型的參數值\n",
    "print('Coefficients: ', regr.coef_)\n",
    "\n",
    "# 預測值與實際值的差距，使用 MSE\n",
    "print(\"Mean squared error: %.2f\"\n",
    "      % mean_squared_error(y_test, y_pred))"
   ]
  },
  {
   "cell_type": "code",
   "execution_count": 212,
   "metadata": {},
   "outputs": [
    {
     "data": {
      "image/png": "[encoded data removed]",
      "text/plain": [
       "<Figure size 432x288 with 1 Axes>"
      ]
     },
     "metadata": {
      "needs_background": "light"
     },
     "output_type": "display_data"
    }
   ],
   "source": [
    "# 畫出回歸模型與實際資料的分佈\n",
    "plt.scatter(x_test, y_test,  color='black')\n",
    "plt.plot(x_test, y_pred, color='blue', linewidth=3)\n",
    "plt.show()"
   ]
  },
  {
   "cell_type": "code",
   "execution_count": 217,
   "metadata": {},
   "outputs": [
    {
     "name": "stdout",
     "output_type": "stream",
     "text": [
      "Accuracy:  0.8596491228070176\n"
     ]
    }
   ],
   "source": [
    "#breast_cancer Logistics regression \n",
    "# 切分訓練集/測試集\n",
    "x_train, x_test, y_train, y_test = train_test_split(breast_cancer.data, breast_cancer.target, test_size=0.1, random_state=4)\n",
    "\n",
    "# 建立模型\n",
    "logreg = linear_model.LogisticRegression(solver ='lbfgs', multi_class =  'auto', max_iter = 10000)\n",
    "\n",
    "# 訓練模型\n",
    "logreg.fit(x_train, y_train)\n",
    "\n",
    "# 預測測試集\n",
    "y_pred = logreg.predict(x_test)\n",
    "acc = accuracy_score(y_test, y_pred)\n",
    "print(\"Accuracy: \", acc)"
   ]
  }
 ],
 "metadata": {
  "kernelspec": {
   "display_name": "Python 3",
   "language": "python",
   "name": "python3"
  },
  "language_info": {
   "codemirror_mode": {
    "name": "ipython",
    "version": 3
   },
   "file_extension": ".py",
   "mimetype": "text/x-python",
   "name": "python",
   "nbconvert_exporter": "python",
   "pygments_lexer": "ipython3",
   "version": "3.7.3"
  }
 },
 "nbformat": 4,
 "nbformat_minor": 2
}
