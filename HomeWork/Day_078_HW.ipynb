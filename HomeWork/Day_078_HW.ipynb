{
 "cells": [
  {
   "cell_type": "markdown",
   "metadata": {},
   "source": [
    "## Work\n",
    "1. 請嘗試將 preproc_x 替換成以每筆資料的 min/max 進行標準化至 -1 ~ 1 間，再進行訓練\n",
    "2. 請嘗試將 mlp 疊更深 (e.g 5~10 層)，進行訓練後觀察 learning curve 的走勢\n",
    "3. (optional) 請改用 GPU 進行訓練 (如果你有 GPU 的話)，比較使用 CPU 與 GPU 的訓練速度"
   ]
  },
  {
   "cell_type": "code",
   "execution_count": 1,
   "metadata": {},
   "outputs": [
    {
     "name": "stderr",
     "output_type": "stream",
     "text": [
      "'nvidia-smi' 不是內部或外部命令、可執行的程式或批次檔。\n"
     ]
    }
   ],
   "source": [
    "## 確認硬體資源 (如果你是在 Linux, 若是在 Windows, 請參考 https://blog.csdn.net/idwtwt/article/details/78017565)\n",
    "!nvidia-smi"
   ]
  },
  {
   "cell_type": "code",
   "execution_count": 2,
   "metadata": {},
   "outputs": [
    {
     "name": "stderr",
     "output_type": "stream",
     "text": [
      "Using TensorFlow backend.\n"
     ]
    }
   ],
   "source": [
    "import os\n",
    "import keras\n",
    "\n",
    "os.environ[\"CUDA_VISIBLE_DEVICES\"] = \"\""
   ]
  },
  {
   "cell_type": "code",
   "execution_count": 3,
   "metadata": {},
   "outputs": [],
   "source": [
    "# 從 Keras 的內建功能中，取得 train 與 test 資料集\n",
    "train, test = keras.datasets.cifar10.load_data()"
   ]
  },
  {
   "cell_type": "code",
   "execution_count": 4,
   "metadata": {},
   "outputs": [],
   "source": [
    "## 資料前處理\n",
    "\"\"\"\n",
    "Your code here\n",
    "\"\"\"\n",
    "def preproc_x(x, flatten=True):\n",
    "    x = (x - x.min()) / (x.max() - x.min()) * 2 - 1\n",
    "    if flatten:\n",
    "        x = x.reshape((len(x), -1))\n",
    "    return x\n",
    "\n",
    "def preproc_y(y, num_classes=10):\n",
    "    if y.shape[-1] == 1:\n",
    "        y = keras.utils.to_categorical(y, num_classes)\n",
    "    return y"
   ]
  },
  {
   "cell_type": "code",
   "execution_count": 5,
   "metadata": {},
   "outputs": [],
   "source": [
    "x_train, y_train = train\n",
    "x_test, y_test = test\n",
    "\n",
    "# Preproc the inputs\n",
    "x_train = preproc_x(x_train)\n",
    "x_test = preproc_x(x_test)\n",
    "\n",
    "# Preprc the outputs\n",
    "y_train = preproc_y(y_train)\n",
    "y_test = preproc_y(y_test)"
   ]
  },
  {
   "cell_type": "code",
   "execution_count": 6,
   "metadata": {},
   "outputs": [
    {
     "name": "stdout",
     "output_type": "stream",
     "text": [
      "Model: \"model_1\"\n",
      "_________________________________________________________________\n",
      "Layer (type)                 Output Shape              Param #   \n",
      "=================================================================\n",
      "input_1 (InputLayer)         (None, 3072)              0         \n",
      "_________________________________________________________________\n",
      "hidden_layer1 (Dense)        (None, 512)               1573376   \n",
      "_________________________________________________________________\n",
      "hidden_layer2 (Dense)        (None, 256)               131328    \n",
      "_________________________________________________________________\n",
      "hidden_layer3 (Dense)        (None, 128)               32896     \n",
      "_________________________________________________________________\n",
      "hidden_layer4 (Dense)        (None, 64)                8256      \n",
      "_________________________________________________________________\n",
      "hidden_layer5 (Dense)        (None, 32)                2080      \n",
      "_________________________________________________________________\n",
      "output (Dense)               (None, 10)                330       \n",
      "=================================================================\n",
      "Total params: 1,748,266\n",
      "Trainable params: 1,748,266\n",
      "Non-trainable params: 0\n",
      "_________________________________________________________________\n"
     ]
    }
   ],
   "source": [
    "\"\"\"Code Here\n",
    "建立你的神經網路\n",
    "\"\"\"\n",
    "def build_mlp(input_shape, output_units=10, num_neurons=[512, 256, 128, 64, 32]):\n",
    "    input_layer = keras.layers.Input(input_shape)\n",
    "    \n",
    "    for i, n_units in enumerate(num_neurons):\n",
    "        if i == 0:\n",
    "            x = keras.layers.Dense(units=n_units, activation=\"relu\", name=\"hidden_layer\"+str(i+1))(input_layer)\n",
    "        else:\n",
    "            x = keras.layers.Dense(units=n_units, activation=\"relu\", name=\"hidden_layer\"+str(i+1))(x)\n",
    "    \n",
    "    out = keras.layers.Dense(units=output_units, activation=\"softmax\", name=\"output\")(x)\n",
    "    \n",
    "    model = keras.models.Model(inputs=[input_layer], outputs=[out])\n",
    "    return model\n",
    "\n",
    "model = build_mlp(input_shape=x_train.shape[1:])\n",
    "model.summary()"
   ]
  },
  {
   "cell_type": "code",
   "execution_count": 7,
   "metadata": {},
   "outputs": [],
   "source": [
    "## 超參數設定\n",
    "LEARNING_RATE = 0.001\n",
    "EPOCHS = 100\n",
    "BATCH_SIZE = 256"
   ]
  },
  {
   "cell_type": "code",
   "execution_count": 8,
   "metadata": {},
   "outputs": [],
   "source": [
    "optimizer = keras.optimizers.Adam(lr=LEARNING_RATE)\n",
    "model.compile(loss=\"categorical_crossentropy\", metrics=[\"accuracy\"], optimizer=optimizer)"
   ]
  },
  {
   "cell_type": "code",
   "execution_count": 9,
   "metadata": {},
   "outputs": [
    {
     "name": "stdout",
     "output_type": "stream",
     "text": [
      "Train on 50000 samples, validate on 10000 samples\n",
      "Epoch 1/100\n",
      "50000/50000 [==============================] - 35s 692us/step - loss: 1.7279 - accuracy: 0.3864 - val_loss: 1.5655 - val_accuracy: 0.4429\n",
      "Epoch 2/100\n",
      "50000/50000 [==============================] - 35s 702us/step - loss: 1.4816 - accuracy: 0.4788 - val_loss: 1.4601 - val_accuracy: 0.4873\n",
      "Epoch 3/100\n",
      "50000/50000 [==============================] - 34s 677us/step - loss: 1.3586 - accuracy: 0.5224 - val_loss: 1.4001 - val_accuracy: 0.5076\n",
      "Epoch 4/100\n",
      "50000/50000 [==============================] - 28s 569us/step - loss: 1.2646 - accuracy: 0.5560 - val_loss: 1.3867 - val_accuracy: 0.5112\n",
      "Epoch 5/100\n",
      "50000/50000 [==============================] - 30s 594us/step - loss: 1.1831 - accuracy: 0.5807 - val_loss: 1.3805 - val_accuracy: 0.5102\n",
      "Epoch 6/100\n",
      "50000/50000 [==============================] - 38s 756us/step - loss: 1.1018 - accuracy: 0.6105 - val_loss: 1.3669 - val_accuracy: 0.5281\n",
      "Epoch 7/100\n",
      "50000/50000 [==============================] - 46s 925us/step - loss: 1.0321 - accuracy: 0.6353 - val_loss: 1.3748 - val_accuracy: 0.5301\n",
      "Epoch 8/100\n",
      "50000/50000 [==============================] - 33s 667us/step - loss: 0.9618 - accuracy: 0.6606 - val_loss: 1.3962 - val_accuracy: 0.5320\n",
      "Epoch 9/100\n",
      "50000/50000 [==============================] - 36s 721us/step - loss: 0.8927 - accuracy: 0.6830 - val_loss: 1.4480 - val_accuracy: 0.5412\n",
      "Epoch 10/100\n",
      "50000/50000 [==============================] - 30s 597us/step - loss: 0.8242 - accuracy: 0.7083 - val_loss: 1.5668 - val_accuracy: 0.5145\n",
      "Epoch 11/100\n",
      "50000/50000 [==============================] - 31s 629us/step - loss: 0.7602 - accuracy: 0.7291 - val_loss: 1.5386 - val_accuracy: 0.5287\n",
      "Epoch 12/100\n",
      "50000/50000 [==============================] - 30s 609us/step - loss: 0.7125 - accuracy: 0.7484 - val_loss: 1.5665 - val_accuracy: 0.5375\n",
      "Epoch 13/100\n",
      "50000/50000 [==============================] - 32s 648us/step - loss: 0.6339 - accuracy: 0.7759 - val_loss: 1.5978 - val_accuracy: 0.5329\n",
      "Epoch 14/100\n",
      "50000/50000 [==============================] - 31s 620us/step - loss: 0.5837 - accuracy: 0.7945 - val_loss: 1.7295 - val_accuracy: 0.5210\n",
      "Epoch 15/100\n",
      "50000/50000 [==============================] - 32s 632us/step - loss: 0.5324 - accuracy: 0.8121 - val_loss: 1.8035 - val_accuracy: 0.5353\n",
      "Epoch 16/100\n",
      "50000/50000 [==============================] - 31s 625us/step - loss: 0.4906 - accuracy: 0.8261 - val_loss: 1.8250 - val_accuracy: 0.5364\n",
      "Epoch 17/100\n",
      "50000/50000 [==============================] - 31s 621us/step - loss: 0.4440 - accuracy: 0.8447 - val_loss: 1.9621 - val_accuracy: 0.5334\n",
      "Epoch 18/100\n",
      "50000/50000 [==============================] - 39s 780us/step - loss: 0.4182 - accuracy: 0.8509 - val_loss: 2.1374 - val_accuracy: 0.5173\n",
      "Epoch 19/100\n",
      "50000/50000 [==============================] - 31s 612us/step - loss: 0.3866 - accuracy: 0.8637 - val_loss: 2.1737 - val_accuracy: 0.5234\n",
      "Epoch 20/100\n",
      "50000/50000 [==============================] - 30s 597us/step - loss: 0.3531 - accuracy: 0.8750 - val_loss: 2.2767 - val_accuracy: 0.5293\n",
      "Epoch 21/100\n",
      "50000/50000 [==============================] - 31s 615us/step - loss: 0.3301 - accuracy: 0.8853 - val_loss: 2.3364 - val_accuracy: 0.5282\n",
      "Epoch 22/100\n",
      "50000/50000 [==============================] - 31s 628us/step - loss: 0.2991 - accuracy: 0.8946 - val_loss: 2.4443 - val_accuracy: 0.5244\n",
      "Epoch 23/100\n",
      "50000/50000 [==============================] - 30s 593us/step - loss: 0.2739 - accuracy: 0.9034 - val_loss: 2.6428 - val_accuracy: 0.5255\n",
      "Epoch 24/100\n",
      "50000/50000 [==============================] - 30s 594us/step - loss: 0.2617 - accuracy: 0.9099 - val_loss: 2.6151 - val_accuracy: 0.5242\n",
      "Epoch 25/100\n",
      "50000/50000 [==============================] - 32s 630us/step - loss: 0.2495 - accuracy: 0.9128 - val_loss: 2.7816 - val_accuracy: 0.5055\n",
      "Epoch 26/100\n",
      "50000/50000 [==============================] - 35s 695us/step - loss: 0.2503 - accuracy: 0.9143 - val_loss: 2.8691 - val_accuracy: 0.5147\n",
      "Epoch 27/100\n",
      "50000/50000 [==============================] - 39s 774us/step - loss: 0.2441 - accuracy: 0.9165 - val_loss: 2.8733 - val_accuracy: 0.5221\n",
      "Epoch 28/100\n",
      "50000/50000 [==============================] - 31s 625us/step - loss: 0.2017 - accuracy: 0.9295 - val_loss: 2.9664 - val_accuracy: 0.5277\n",
      "Epoch 29/100\n",
      "50000/50000 [==============================] - 29s 582us/step - loss: 0.1968 - accuracy: 0.9315 - val_loss: 3.0811 - val_accuracy: 0.5233\n",
      "Epoch 30/100\n",
      "50000/50000 [==============================] - 29s 587us/step - loss: 0.1923 - accuracy: 0.9351 - val_loss: 2.9965 - val_accuracy: 0.5220\n",
      "Epoch 31/100\n",
      "50000/50000 [==============================] - 29s 586us/step - loss: 0.1989 - accuracy: 0.9306 - val_loss: 3.1932 - val_accuracy: 0.5258\n",
      "Epoch 32/100\n",
      "50000/50000 [==============================] - 31s 625us/step - loss: 0.1770 - accuracy: 0.9396 - val_loss: 3.1448 - val_accuracy: 0.5273\n",
      "Epoch 33/100\n",
      "50000/50000 [==============================] - 29s 586us/step - loss: 0.1572 - accuracy: 0.9465 - val_loss: 3.5274 - val_accuracy: 0.5225\n",
      "Epoch 34/100\n",
      "50000/50000 [==============================] - 30s 603us/step - loss: 0.1613 - accuracy: 0.9441 - val_loss: 3.3595 - val_accuracy: 0.5175\n",
      "Epoch 35/100\n",
      "50000/50000 [==============================] - 29s 587us/step - loss: 0.1794 - accuracy: 0.9383 - val_loss: 3.3639 - val_accuracy: 0.5177\n",
      "Epoch 36/100\n",
      "50000/50000 [==============================] - 30s 602us/step - loss: 0.1706 - accuracy: 0.9421 - val_loss: 3.3861 - val_accuracy: 0.5237\n",
      "Epoch 37/100\n",
      "50000/50000 [==============================] - 30s 596us/step - loss: 0.1628 - accuracy: 0.9445 - val_loss: 3.3733 - val_accuracy: 0.5274\n",
      "Epoch 38/100\n",
      "50000/50000 [==============================] - 30s 603us/step - loss: 0.1396 - accuracy: 0.9520 - val_loss: 3.5696 - val_accuracy: 0.5219\n",
      "Epoch 39/100\n",
      "50000/50000 [==============================] - 29s 584us/step - loss: 0.1387 - accuracy: 0.9522 - val_loss: 3.4856 - val_accuracy: 0.5222\n",
      "Epoch 40/100\n",
      "50000/50000 [==============================] - 30s 597us/step - loss: 0.1357 - accuracy: 0.9546 - val_loss: 3.7742 - val_accuracy: 0.5235\n",
      "Epoch 41/100\n",
      "50000/50000 [==============================] - 36s 719us/step - loss: 0.1521 - accuracy: 0.9482 - val_loss: 3.6942 - val_accuracy: 0.5213\n",
      "Epoch 42/100\n",
      "50000/50000 [==============================] - 30s 591us/step - loss: 0.1462 - accuracy: 0.9507 - val_loss: 3.6630 - val_accuracy: 0.5319\n",
      "Epoch 43/100\n",
      "50000/50000 [==============================] - 30s 590us/step - loss: 0.1122 - accuracy: 0.9622 - val_loss: 3.7490 - val_accuracy: 0.5208\n",
      "Epoch 44/100\n",
      "50000/50000 [==============================] - 29s 589us/step - loss: 0.1326 - accuracy: 0.9556 - val_loss: 3.7540 - val_accuracy: 0.5293\n",
      "Epoch 45/100\n",
      "50000/50000 [==============================] - 29s 575us/step - loss: 0.1247 - accuracy: 0.9585 - val_loss: 3.9645 - val_accuracy: 0.5239\n",
      "Epoch 46/100\n",
      "50000/50000 [==============================] - 29s 585us/step - loss: 0.1302 - accuracy: 0.9565 - val_loss: 3.7337 - val_accuracy: 0.5177\n",
      "Epoch 47/100\n",
      "50000/50000 [==============================] - 30s 594us/step - loss: 0.1171 - accuracy: 0.9606 - val_loss: 3.9344 - val_accuracy: 0.5228\n",
      "Epoch 48/100\n",
      "50000/50000 [==============================] - 29s 588us/step - loss: 0.1366 - accuracy: 0.9553 - val_loss: 3.8449 - val_accuracy: 0.5252\n",
      "Epoch 49/100\n",
      "50000/50000 [==============================] - 30s 597us/step - loss: 0.1003 - accuracy: 0.9657 - val_loss: 4.0219 - val_accuracy: 0.5297\n",
      "Epoch 50/100\n",
      "50000/50000 [==============================] - 30s 595us/step - loss: 0.1218 - accuracy: 0.9597 - val_loss: 4.0362 - val_accuracy: 0.5243\n",
      "Epoch 51/100\n",
      "50000/50000 [==============================] - 29s 587us/step - loss: 0.1158 - accuracy: 0.9623 - val_loss: 4.0643 - val_accuracy: 0.5242\n",
      "Epoch 52/100\n",
      "50000/50000 [==============================] - 30s 600us/step - loss: 0.1152 - accuracy: 0.9614 - val_loss: 4.0481 - val_accuracy: 0.5288\n",
      "Epoch 53/100\n",
      "50000/50000 [==============================] - 30s 592us/step - loss: 0.1099 - accuracy: 0.9637 - val_loss: 3.9263 - val_accuracy: 0.5249\n",
      "Epoch 54/100\n",
      "50000/50000 [==============================] - 29s 585us/step - loss: 0.1320 - accuracy: 0.9566 - val_loss: 3.8162 - val_accuracy: 0.5228\n"
     ]
    },
    {
     "name": "stdout",
     "output_type": "stream",
     "text": [
      "Epoch 55/100\n",
      "50000/50000 [==============================] - 29s 585us/step - loss: 0.0976 - accuracy: 0.9679 - val_loss: 4.0294 - val_accuracy: 0.5309\n",
      "Epoch 56/100\n",
      "50000/50000 [==============================] - 29s 585us/step - loss: 0.0859 - accuracy: 0.9723 - val_loss: 4.1733 - val_accuracy: 0.5209\n",
      "Epoch 57/100\n",
      "50000/50000 [==============================] - 30s 598us/step - loss: 0.1000 - accuracy: 0.9673 - val_loss: 4.1976 - val_accuracy: 0.5203\n",
      "Epoch 58/100\n",
      "50000/50000 [==============================] - 32s 642us/step - loss: 0.0969 - accuracy: 0.9679 - val_loss: 4.2453 - val_accuracy: 0.5169\n",
      "Epoch 59/100\n",
      "50000/50000 [==============================] - 33s 662us/step - loss: 0.0874 - accuracy: 0.9722 - val_loss: 4.0813 - val_accuracy: 0.5289\n",
      "Epoch 60/100\n",
      "50000/50000 [==============================] - 33s 659us/step - loss: 0.1226 - accuracy: 0.9597 - val_loss: 4.0806 - val_accuracy: 0.5251\n",
      "Epoch 61/100\n",
      "50000/50000 [==============================] - 33s 659us/step - loss: 0.1070 - accuracy: 0.9643 - val_loss: 4.1334 - val_accuracy: 0.5255\n",
      "Epoch 62/100\n",
      "50000/50000 [==============================] - 37s 740us/step - loss: 0.0742 - accuracy: 0.9755 - val_loss: 4.3473 - val_accuracy: 0.5261\n",
      "Epoch 63/100\n",
      "50000/50000 [==============================] - 32s 648us/step - loss: 0.0918 - accuracy: 0.9695 - val_loss: 4.3194 - val_accuracy: 0.5138\n",
      "Epoch 64/100\n",
      "50000/50000 [==============================] - 33s 658us/step - loss: 0.1132 - accuracy: 0.9630 - val_loss: 4.1096 - val_accuracy: 0.5233\n",
      "Epoch 65/100\n",
      "50000/50000 [==============================] - 34s 689us/step - loss: 0.0808 - accuracy: 0.9727 - val_loss: 4.2615 - val_accuracy: 0.5268\n",
      "Epoch 66/100\n",
      "50000/50000 [==============================] - 35s 693us/step - loss: 0.0737 - accuracy: 0.9757 - val_loss: 4.3518 - val_accuracy: 0.5295\n",
      "Epoch 67/100\n",
      "50000/50000 [==============================] - 34s 672us/step - loss: 0.0873 - accuracy: 0.9715 - val_loss: 4.5265 - val_accuracy: 0.5258\n",
      "Epoch 68/100\n",
      "50000/50000 [==============================] - 34s 681us/step - loss: 0.1002 - accuracy: 0.9678 - val_loss: 4.2758 - val_accuracy: 0.5153\n",
      "Epoch 69/100\n",
      "50000/50000 [==============================] - 36s 710us/step - loss: 0.1077 - accuracy: 0.9645 - val_loss: 4.3015 - val_accuracy: 0.5219\n",
      "Epoch 70/100\n",
      "50000/50000 [==============================] - 32s 650us/step - loss: 0.0860 - accuracy: 0.9723 - val_loss: 4.3162 - val_accuracy: 0.5229\n",
      "Epoch 71/100\n",
      "50000/50000 [==============================] - 32s 646us/step - loss: 0.0913 - accuracy: 0.9707 - val_loss: 4.3456 - val_accuracy: 0.5257\n",
      "Epoch 72/100\n",
      "50000/50000 [==============================] - 31s 617us/step - loss: 0.0842 - accuracy: 0.9723 - val_loss: 4.4706 - val_accuracy: 0.5289\n",
      "Epoch 73/100\n",
      "50000/50000 [==============================] - 31s 615us/step - loss: 0.0764 - accuracy: 0.9751 - val_loss: 4.4132 - val_accuracy: 0.5225\n",
      "Epoch 74/100\n",
      "50000/50000 [==============================] - 30s 607us/step - loss: 0.0779 - accuracy: 0.9748 - val_loss: 4.4371 - val_accuracy: 0.5243\n",
      "Epoch 75/100\n",
      "50000/50000 [==============================] - 31s 617us/step - loss: 0.0798 - accuracy: 0.9735 - val_loss: 4.4379 - val_accuracy: 0.5259\n",
      "Epoch 76/100\n",
      "50000/50000 [==============================] - 30s 600us/step - loss: 0.0795 - accuracy: 0.9737 - val_loss: 4.3364 - val_accuracy: 0.5266\n",
      "Epoch 77/100\n",
      "50000/50000 [==============================] - 30s 607us/step - loss: 0.0651 - accuracy: 0.9786 - val_loss: 4.5302 - val_accuracy: 0.5246\n",
      "Epoch 78/100\n",
      "50000/50000 [==============================] - 31s 614us/step - loss: 0.0742 - accuracy: 0.9766 - val_loss: 4.6144 - val_accuracy: 0.5193\n",
      "Epoch 79/100\n",
      "50000/50000 [==============================] - 31s 614us/step - loss: 0.0856 - accuracy: 0.9721 - val_loss: 4.4811 - val_accuracy: 0.5211\n",
      "Epoch 80/100\n",
      "50000/50000 [==============================] - 30s 604us/step - loss: 0.0739 - accuracy: 0.9768 - val_loss: 4.5323 - val_accuracy: 0.5222\n",
      "Epoch 81/100\n",
      "50000/50000 [==============================] - 38s 763us/step - loss: 0.0733 - accuracy: 0.9766 - val_loss: 4.4791 - val_accuracy: 0.5304\n",
      "Epoch 82/100\n",
      "50000/50000 [==============================] - 36s 721us/step - loss: 0.0688 - accuracy: 0.9771 - val_loss: 4.6140 - val_accuracy: 0.5180\n",
      "Epoch 83/100\n",
      "50000/50000 [==============================] - 32s 645us/step - loss: 0.0990 - accuracy: 0.9674 - val_loss: 4.4388 - val_accuracy: 0.5284\n",
      "Epoch 84/100\n",
      "50000/50000 [==============================] - 32s 643us/step - loss: 0.0794 - accuracy: 0.9739 - val_loss: 4.4276 - val_accuracy: 0.5267\n",
      "Epoch 85/100\n",
      "50000/50000 [==============================] - 33s 657us/step - loss: 0.0589 - accuracy: 0.9808 - val_loss: 4.5841 - val_accuracy: 0.5202\n",
      "Epoch 86/100\n",
      "50000/50000 [==============================] - 33s 653us/step - loss: 0.0636 - accuracy: 0.9789 - val_loss: 4.6458 - val_accuracy: 0.5152\n",
      "Epoch 87/100\n",
      "50000/50000 [==============================] - 31s 627us/step - loss: 0.0739 - accuracy: 0.9759 - val_loss: 4.4970 - val_accuracy: 0.5335\n",
      "Epoch 88/100\n",
      "50000/50000 [==============================] - 33s 650us/step - loss: 0.0858 - accuracy: 0.9724 - val_loss: 4.5683 - val_accuracy: 0.5203\n",
      "Epoch 89/100\n",
      "50000/50000 [==============================] - 33s 654us/step - loss: 0.0754 - accuracy: 0.9766 - val_loss: 4.5774 - val_accuracy: 0.5287\n",
      "Epoch 90/100\n",
      "50000/50000 [==============================] - 32s 639us/step - loss: 0.0641 - accuracy: 0.9793 - val_loss: 4.5120 - val_accuracy: 0.5319\n",
      "Epoch 91/100\n",
      "50000/50000 [==============================] - 32s 635us/step - loss: 0.0492 - accuracy: 0.9841 - val_loss: 4.5831 - val_accuracy: 0.5278\n",
      "Epoch 92/100\n",
      "50000/50000 [==============================] - 31s 623us/step - loss: 0.0603 - accuracy: 0.9810 - val_loss: 4.8079 - val_accuracy: 0.5222\n",
      "Epoch 93/100\n",
      "50000/50000 [==============================] - 32s 636us/step - loss: 0.0791 - accuracy: 0.9754 - val_loss: 4.4698 - val_accuracy: 0.5203\n",
      "Epoch 94/100\n",
      "50000/50000 [==============================] - 32s 642us/step - loss: 0.0668 - accuracy: 0.9781 - val_loss: 4.7210 - val_accuracy: 0.5260\n",
      "Epoch 95/100\n",
      "50000/50000 [==============================] - 32s 642us/step - loss: 0.0628 - accuracy: 0.9805 - val_loss: 4.5620 - val_accuracy: 0.5209\n",
      "Epoch 96/100\n",
      "50000/50000 [==============================] - 35s 695us/step - loss: 0.0871 - accuracy: 0.9730 - val_loss: 4.4880 - val_accuracy: 0.5247\n",
      "Epoch 97/100\n",
      "50000/50000 [==============================] - 34s 685us/step - loss: 0.0496 - accuracy: 0.9832 - val_loss: 4.6702 - val_accuracy: 0.5191\n",
      "Epoch 98/100\n",
      "50000/50000 [==============================] - 35s 710us/step - loss: 0.0486 - accuracy: 0.9846 - val_loss: 4.7791 - val_accuracy: 0.5222\n",
      "Epoch 99/100\n",
      "50000/50000 [==============================] - 40s 797us/step - loss: 0.0678 - accuracy: 0.9784 - val_loss: 4.6932 - val_accuracy: 0.5199\n",
      "Epoch 100/100\n",
      "50000/50000 [==============================] - 35s 698us/step - loss: 0.0607 - accuracy: 0.9804 - val_loss: 4.6838 - val_accuracy: 0.5255\n"
     ]
    },
    {
     "data": {
      "text/plain": [
       "<keras.callbacks.callbacks.History at 0x20ed75e4278>"
      ]
     },
     "execution_count": 9,
     "metadata": {},
     "output_type": "execute_result"
    }
   ],
   "source": [
    "model.fit(x_train, y_train, \n",
    "          epochs=EPOCHS, \n",
    "          batch_size=BATCH_SIZE, \n",
    "          validation_data=(x_test, y_test), \n",
    "          shuffle=True)"
   ]
  },
  {
   "cell_type": "code",
   "execution_count": 10,
   "metadata": {},
   "outputs": [
    {
     "data": {
      "text/plain": [
       "<Figure size 640x480 with 1 Axes>"
      ]
     },
     "metadata": {},
     "output_type": "display_data"
    },
    {
     "data": {
      "text/plain": [
       "<Figure size 640x480 with 1 Axes>"
      ]
     },
     "metadata": {},
     "output_type": "display_data"
    }
   ],
   "source": [
    "import matplotlib.pyplot as plt\n",
    "\n",
    "\n",
    "train_loss = model.history.history[\"loss\"]\n",
    "valid_loss = model.history.history[\"val_loss\"]\n",
    "\n",
    "train_acc = model.history.history[\"accuracy\"]\n",
    "valid_acc = model.history.history[\"val_accuracy\"]\n",
    "\n",
    "plt.plot(range(len(train_loss)), train_loss, label=\"train loss\")\n",
    "plt.plot(range(len(valid_loss)), valid_loss, label=\"valid loss\")\n",
    "plt.legend()\n",
    "plt.title(\"Loss\")\n",
    "plt.show()\n",
    "\n",
    "plt.plot(range(len(train_acc)), train_acc, label=\"train accuracy\")\n",
    "plt.plot(range(len(valid_acc)), valid_acc, label=\"valid accuracy\")\n",
    "plt.legend()\n",
    "plt.title(\"Accuracy\")\n",
    "plt.show()"
   ]
  },
  {
   "cell_type": "code",
   "execution_count": null,
   "metadata": {},
   "outputs": [],
   "source": []
  }
 ],
 "metadata": {
  "kernelspec": {
   "display_name": "Python 3",
   "language": "python",
   "name": "python3"
  },
  "language_info": {
   "codemirror_mode": {
    "name": "ipython",
    "version": 3
   },
   "file_extension": ".py",
   "mimetype": "text/x-python",
   "name": "python",
   "nbconvert_exporter": "python",
   "pygments_lexer": "ipython3",
   "version": "3.7.3"
  }
 },
 "nbformat": 4,
 "nbformat_minor": 2
}
