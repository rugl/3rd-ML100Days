{
 "cells": [
  {
   "cell_type": "markdown",
   "metadata": {},
   "source": [
    "## Bagging 和 Boosting 的差異："
   ]
  },
  {
   "cell_type": "markdown",
   "metadata": {},
   "source": [
    "# 訓練樣本方面:"
   ]
  },
  {
   "cell_type": "markdown",
   "metadata": {},
   "source": [
    "Bagging:"
   ]
  },
  {
   "cell_type": "markdown",
   "metadata": {},
   "source": [
    "<ul>\n",
    "    <li>每一次的訓練集是隨機抽取，抽出可放回。</li>\n",
    "    <li>每個樣本權重一致，以獨立同分布選取的訓練樣本子集訓練弱分類器。</li>\n",
    "    </ul>\n",
    "    "
   ]
  },
  {
   "cell_type": "markdown",
   "metadata": {},
   "source": [
    "Boosting:"
   ]
  },
  {
   "cell_type": "markdown",
   "metadata": {},
   "source": [
    "<ul>\n",
    "    <li>每一次的訓練集不變，訓練集之間的選擇不是獨立的。</li>\n",
    "    <li>每一次選擇的訓練集都是依賴上一次學習得結果，根據錯誤率(給予訓練樣本不同的權重)取樣。</li>\n",
    "    </ul>\n",
    "    <ul>"
   ]
  },
  {
   "cell_type": "markdown",
   "metadata": {},
   "source": [
    "# 分類器方面:"
   ]
  },
  {
   "cell_type": "markdown",
   "metadata": {},
   "source": [
    "Bagging:"
   ]
  },
  {
   "cell_type": "markdown",
   "metadata": {},
   "source": [
    "<ul>\n",
    "    <li>每個分類器的權重相等。</li>\n",
    "    <li>透過抽樣 (sampling) 的方式來生成每一棵樹，樹與樹之間是獨立⽣成的</li>\n",
    "    <li>每個分類器可以並行生成。</li>\n",
    "    </ul>"
   ]
  },
  {
   "cell_type": "markdown",
   "metadata": {},
   "source": [
    "Boosting:"
   ]
  },
  {
   "cell_type": "markdown",
   "metadata": {},
   "source": [
    "<ul>\n",
    "    <li>每個分類器都有各自的權重，對於分類誤差大的分類器會有更大的權重。</li>\n",
    "    <li>透過序列列 (additive) 的⽅式來生成每一顆樹，每棵樹都會與前面的樹關聯。</li>\n",
    "    <li>每個分類器只能依賴上一次的分類器順序生成。</li>\n",
    "    </ul>\n",
    "\n",
    "\n"
   ]
  },
  {
   "cell_type": "markdown",
   "metadata": {},
   "source": [
    "# 效果方面:"
   ]
  },
  {
   "cell_type": "markdown",
   "metadata": {},
   "source": [
    "Bagging:"
   ]
  },
  {
   "cell_type": "markdown",
   "metadata": {},
   "source": [
    "<ul>\n",
    "    <li>用在很強、很複雜、很容易 overfitting 的 mode</li>\n",
    "    <li>for 複雜模型，with high variance & low bias，旨在降低 variance，防止 overfitting．ex. Decision Tree</li>\n",
    "    <li>Out of Bag Error (OOB) validation for bagging : 可以不用切成 training set 和 validation set，一樣可以有 validation 的效果</li>\n",
    "    <li>每個分類器可以並行生成。</li>\n",
    "    <li>做 Bagging 並不會使模型更 fit data， 就算從DT變成RF也還是沒有辦法 fit 出那個 function ， 可以得到的 Ensemble function 只是因為把他平均起來，他只是變更平滑而已</li>\n",
    "    </ul>"
   ]
  },
  {
   "cell_type": "markdown",
   "metadata": {},
   "source": [
    "Boosting:"
   ]
  },
  {
   "cell_type": "markdown",
   "metadata": {},
   "source": [
    "<ul>\n",
    "    <li>可能會overfitting</li>\n",
    "    <li>降低預測結果的bias和variance</li>\n",
    "    <li>Guarantee : boosting可以把僅略高於 50% 錯誤率（error rate）這種跟瞎猜一樣的很弱的模型，把他訓練成錯誤率 0 %</li>\n",
    "    <li>把多個 Decision Stump 集結起來，錯誤率竟然降到 0%</li>\n",
    "    </ul>"
   ]
  },
  {
   "cell_type": "code",
   "execution_count": null,
   "metadata": {},
   "outputs": [],
   "source": []
  }
 ],
 "metadata": {
  "kernelspec": {
   "display_name": "Python 3",
   "language": "python",
   "name": "python3"
  },
  "language_info": {
   "codemirror_mode": {
    "name": "ipython",
    "version": 3
   },
   "file_extension": ".py",
   "mimetype": "text/x-python",
   "name": "python",
   "nbconvert_exporter": "python",
   "pygments_lexer": "ipython3",
   "version": "3.7.3"
  }
 },
 "nbformat": 4,
 "nbformat_minor": 2
}
