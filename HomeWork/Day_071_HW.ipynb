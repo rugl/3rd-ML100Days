{
 "cells": [
  {
   "cell_type": "markdown",
   "metadata": {
    "colab_type": "text",
    "id": "cj4tE8e8iUtO"
   },
   "source": [
    "#   \n",
    "\n",
    "# 作業目標:\n",
    "\n",
    "    1. 藉由固定的 dataset, 來驗證不同loss function\n",
    "    2. Dataset 的特性跟我們選用的loss function 對accrancy 的影響\n",
    "    \n",
    "    \n",
    "# 作業重點: \n",
    "    請分別選用 \"MSE\", \"binary _crossentropy\"\n",
    "    查看Train/test accurancy and loss rate\n",
    "    "
   ]
  },
  {
   "cell_type": "markdown",
   "metadata": {
    "colab_type": "text",
    "id": "R51J4KyyiUsL"
   },
   "source": [
    "# 導入必要的函數"
   ]
  },
  {
   "cell_type": "code",
   "execution_count": 42,
   "metadata": {
    "colab": {},
    "colab_type": "code",
    "id": "Qd68OQjciUsM"
   },
   "outputs": [],
   "source": [
    "from keras.datasets import cifar10\n",
    "import numpy as np\n",
    "np.random.seed(10)"
   ]
  },
  {
   "cell_type": "markdown",
   "metadata": {
    "colab_type": "text",
    "id": "GxKuzQLQiUsP"
   },
   "source": [
    "# 資料準備"
   ]
  },
  {
   "cell_type": "code",
   "execution_count": 43,
   "metadata": {
    "colab": {},
    "colab_type": "code",
    "id": "MIbFZdTCiUsQ"
   },
   "outputs": [],
   "source": [
    "#取得Keras Dataset\n",
    "(x_img_train,y_label_train),(x_img_test,y_label_test)=cifar10.load_data()"
   ]
  },
  {
   "cell_type": "code",
   "execution_count": 44,
   "metadata": {
    "colab": {},
    "colab_type": "code",
    "id": "J8CJVjNOiUsS"
   },
   "outputs": [
    {
     "name": "stdout",
     "output_type": "stream",
     "text": [
      "train data: images: (50000, 32, 32, 3)  labels: (50000, 1)\n",
      "test  data: images: (10000, 32, 32, 3)  labels: (10000, 1)\n"
     ]
    }
   ],
   "source": [
    "#確認 CIFAR10 Dataset 資料維度\n",
    "print(\"train data:\",'images:',x_img_train.shape,\n",
    "      \" labels:\",y_label_train.shape) \n",
    "print(\"test  data:\",'images:',x_img_test.shape ,\n",
    "      \" labels:\",y_label_test.shape) "
   ]
  },
  {
   "cell_type": "code",
   "execution_count": 45,
   "metadata": {
    "colab": {},
    "colab_type": "code",
    "id": "V3P6P4DXiUsV"
   },
   "outputs": [],
   "source": [
    "#資料正規化\n",
    "x_img_train_normalize = x_img_train.astype('float32') / 255.0\n",
    "x_img_test_normalize = x_img_test.astype('float32') / 255.0"
   ]
  },
  {
   "cell_type": "code",
   "execution_count": 46,
   "metadata": {
    "colab": {},
    "colab_type": "code",
    "id": "vsDyjKYliUsX"
   },
   "outputs": [
    {
     "data": {
      "text/plain": [
       "(10000, 10)"
      ]
     },
     "execution_count": 46,
     "metadata": {},
     "output_type": "execute_result"
    }
   ],
   "source": [
    "#針對Label 做 ONE HOT ENCODE\n",
    "from keras.utils import np_utils\n",
    "y_label_train_OneHot = np_utils.to_categorical(y_label_train)\n",
    "y_label_test_OneHot = np_utils.to_categorical(y_label_test)\n",
    "y_label_test_OneHot.shape"
   ]
  },
  {
   "cell_type": "markdown",
   "metadata": {
    "colab_type": "text",
    "id": "RutW2OtgiUsZ"
   },
   "source": [
    "# 建立模型"
   ]
  },
  {
   "cell_type": "code",
   "execution_count": 47,
   "metadata": {
    "colab": {},
    "colab_type": "code",
    "id": "aHz592aXiUsa"
   },
   "outputs": [],
   "source": [
    "from keras.models import Sequential\n",
    "from keras.layers import Dense, Dropout, Activation, Flatten\n",
    "from keras.layers import Conv2D, MaxPooling2D, ZeroPadding2D"
   ]
  },
  {
   "cell_type": "code",
   "execution_count": 48,
   "metadata": {
    "colab": {},
    "colab_type": "code",
    "id": "hslqrIp0iUse"
   },
   "outputs": [],
   "source": [
    "model = Sequential()"
   ]
  },
  {
   "cell_type": "code",
   "execution_count": 49,
   "metadata": {
    "colab": {},
    "colab_type": "code",
    "id": "Hqe35hs2iUsi"
   },
   "outputs": [],
   "source": [
    "#卷積層1"
   ]
  },
  {
   "cell_type": "code",
   "execution_count": 50,
   "metadata": {
    "colab": {},
    "colab_type": "code",
    "id": "ED7dqe1YiUsm"
   },
   "outputs": [],
   "source": [
    "model.add(Conv2D(filters=32,kernel_size=(3,3),\n",
    "                 input_shape=(32, 32,3), \n",
    "                 activation='relu', \n",
    "                 padding='same'))"
   ]
  },
  {
   "cell_type": "code",
   "execution_count": 51,
   "metadata": {
    "colab": {},
    "colab_type": "code",
    "id": "n-GRKmPViUso"
   },
   "outputs": [],
   "source": [
    "model.add(Dropout(rate=0.25))"
   ]
  },
  {
   "cell_type": "code",
   "execution_count": 52,
   "metadata": {
    "colab": {},
    "colab_type": "code",
    "id": "GlWnnD1uiUsw"
   },
   "outputs": [],
   "source": [
    "model.add(MaxPooling2D(pool_size=(2, 2)))"
   ]
  },
  {
   "cell_type": "code",
   "execution_count": 53,
   "metadata": {
    "colab": {},
    "colab_type": "code",
    "id": "nawlkt55iUsy"
   },
   "outputs": [],
   "source": [
    "#卷積層2與池化層2"
   ]
  },
  {
   "cell_type": "code",
   "execution_count": 54,
   "metadata": {
    "colab": {},
    "colab_type": "code",
    "id": "xxyETiKNiUs1"
   },
   "outputs": [],
   "source": [
    "model.add(Conv2D(filters=64, kernel_size=(3, 3), \n",
    "                 activation='relu', padding='same'))"
   ]
  },
  {
   "cell_type": "code",
   "execution_count": 55,
   "metadata": {
    "colab": {},
    "colab_type": "code",
    "id": "RqcKWtqGiUs2"
   },
   "outputs": [],
   "source": [
    "model.add(Dropout(0.25))"
   ]
  },
  {
   "cell_type": "code",
   "execution_count": 56,
   "metadata": {
    "colab": {},
    "colab_type": "code",
    "id": "BUOOzlqfiUs4"
   },
   "outputs": [],
   "source": [
    "model.add(MaxPooling2D(pool_size=(2, 2)))"
   ]
  },
  {
   "cell_type": "code",
   "execution_count": 57,
   "metadata": {
    "colab": {},
    "colab_type": "code",
    "id": "LpkppB2siUs7"
   },
   "outputs": [],
   "source": [
    "#建立神經網路(平坦層、隱藏層、輸出層)"
   ]
  },
  {
   "cell_type": "code",
   "execution_count": 58,
   "metadata": {
    "colab": {},
    "colab_type": "code",
    "id": "UQOfU54_iUs_"
   },
   "outputs": [],
   "source": [
    "model.add(Flatten())\n",
    "model.add(Dropout(rate=0.25))"
   ]
  },
  {
   "cell_type": "code",
   "execution_count": 59,
   "metadata": {
    "colab": {},
    "colab_type": "code",
    "id": "_NV-8sq4iUtD"
   },
   "outputs": [],
   "source": [
    "model.add(Dense(1024, activation='relu'))\n",
    "model.add(Dropout(rate=0.25))"
   ]
  },
  {
   "cell_type": "code",
   "execution_count": 60,
   "metadata": {
    "colab": {},
    "colab_type": "code",
    "id": "qVK77krOiUtF"
   },
   "outputs": [],
   "source": [
    "model.add(Dense(10, activation='softmax'))"
   ]
  },
  {
   "cell_type": "code",
   "execution_count": 61,
   "metadata": {
    "colab": {},
    "colab_type": "code",
    "id": "ZxzRIjR0iUtH"
   },
   "outputs": [
    {
     "name": "stdout",
     "output_type": "stream",
     "text": [
      "Model: \"sequential_2\"\n",
      "_________________________________________________________________\n",
      "Layer (type)                 Output Shape              Param #   \n",
      "=================================================================\n",
      "conv2d_3 (Conv2D)            (None, 32, 32, 32)        896       \n",
      "_________________________________________________________________\n",
      "dropout_5 (Dropout)          (None, 32, 32, 32)        0         \n",
      "_________________________________________________________________\n",
      "max_pooling2d_3 (MaxPooling2 (None, 16, 16, 32)        0         \n",
      "_________________________________________________________________\n",
      "conv2d_4 (Conv2D)            (None, 16, 16, 64)        18496     \n",
      "_________________________________________________________________\n",
      "dropout_6 (Dropout)          (None, 16, 16, 64)        0         \n",
      "_________________________________________________________________\n",
      "max_pooling2d_4 (MaxPooling2 (None, 8, 8, 64)          0         \n",
      "_________________________________________________________________\n",
      "flatten_2 (Flatten)          (None, 4096)              0         \n",
      "_________________________________________________________________\n",
      "dropout_7 (Dropout)          (None, 4096)              0         \n",
      "_________________________________________________________________\n",
      "dense_3 (Dense)              (None, 1024)              4195328   \n",
      "_________________________________________________________________\n",
      "dropout_8 (Dropout)          (None, 1024)              0         \n",
      "_________________________________________________________________\n",
      "dense_4 (Dense)              (None, 10)                10250     \n",
      "=================================================================\n",
      "Total params: 4,224,970\n",
      "Trainable params: 4,224,970\n",
      "Non-trainable params: 0\n",
      "_________________________________________________________________\n",
      "None\n"
     ]
    }
   ],
   "source": [
    "#檢查model 的STACK\n",
    "print(model.summary())"
   ]
  },
  {
   "cell_type": "markdown",
   "metadata": {
    "colab_type": "text",
    "id": "QJCtpJM0iUtJ"
   },
   "source": [
    "# 載入之前訓練的模型"
   ]
  },
  {
   "cell_type": "code",
   "execution_count": 62,
   "metadata": {
    "colab": {},
    "colab_type": "code",
    "id": "JU3A6NzQiUtK"
   },
   "outputs": [
    {
     "name": "stdout",
     "output_type": "stream",
     "text": [
      "載入模型失敗!開始訓練一個新模型\n"
     ]
    }
   ],
   "source": [
    "try:\n",
    "    model.load_weights(\"SaveModel/cifarCnnModel.h5\")\n",
    "    print(\"載入模型成功!繼續訓練模型\")\n",
    "except :    \n",
    "    print(\"載入模型失敗!開始訓練一個新模型\")"
   ]
  },
  {
   "cell_type": "markdown",
   "metadata": {
    "colab_type": "text",
    "id": "qBbCuziziUtM"
   },
   "source": [
    "# 訓練模型"
   ]
  },
  {
   "cell_type": "code",
   "execution_count": 78,
   "metadata": {},
   "outputs": [],
   "source": [
    "import matplotlib.pyplot as plt\n",
    "%matplotlib inline\n",
    "\n",
    "#定義一個繪圖函數\n",
    "def compile_model (loss_function) :\n",
    "    model.compile(loss=loss_function, optimizer='sgd', metrics=['accuracy'])\n",
    "\n",
    "    train_history = model.fit(x_img_train_normalize, y_label_train_OneHot, \n",
    "                             validation_split=0.25, epochs=10, batch_size=128, verbose=1)\n",
    "    print('keys =', train_history.history.keys())\n",
    "    plt.plot(train_history.history['accuracy'])\n",
    "    plt.plot(train_history.history['val_accuracy'])\n",
    "    plt.title('Train History')\n",
    "    plt.ylabel('Accuracy')\n",
    "    plt.xlabel('Epoch')\n",
    "    plt.legend(['train_acc', 'val_acc'], loc='upper left')\n",
    "    plt.show()\n",
    "    \n",
    "    scores = model.evaluate(x_img_test_normalize, y_label_test_OneHot)\n",
    "    print('accuracy =',scores[1])"
   ]
  },
  {
   "cell_type": "code",
   "execution_count": 79,
   "metadata": {
    "colab": {},
    "colab_type": "code",
    "id": "4-GdDgmQiUtS"
   },
   "outputs": [
    {
     "name": "stdout",
     "output_type": "stream",
     "text": [
      "Train on 37500 samples, validate on 12500 samples\n",
      "Epoch 1/10\n",
      "37500/37500 [==============================] - 106s 3ms/step - loss: 1.6336 - accuracy: 0.4154 - val_loss: 1.6600 - val_accuracy: 0.4523\n",
      "Epoch 2/10\n",
      "37500/37500 [==============================] - 104s 3ms/step - loss: 1.5702 - accuracy: 0.4372 - val_loss: 1.6173 - val_accuracy: 0.4601\n",
      "Epoch 3/10\n",
      "37500/37500 [==============================] - 103s 3ms/step - loss: 1.5162 - accuracy: 0.4588 - val_loss: 1.5678 - val_accuracy: 0.4781\n",
      "Epoch 4/10\n",
      "37500/37500 [==============================] - 103s 3ms/step - loss: 1.4791 - accuracy: 0.4697 - val_loss: 1.5082 - val_accuracy: 0.5017\n",
      "Epoch 5/10\n",
      "37500/37500 [==============================] - 105s 3ms/step - loss: 1.4417 - accuracy: 0.4842 - val_loss: 1.4688 - val_accuracy: 0.5126\n",
      "Epoch 6/10\n",
      "37500/37500 [==============================] - 105s 3ms/step - loss: 1.4167 - accuracy: 0.4921 - val_loss: 1.4616 - val_accuracy: 0.5173\n",
      "Epoch 7/10\n",
      "37500/37500 [==============================] - 107s 3ms/step - loss: 1.3856 - accuracy: 0.5046 - val_loss: 1.4159 - val_accuracy: 0.5329\n",
      "Epoch 8/10\n",
      "37500/37500 [==============================] - 104s 3ms/step - loss: 1.3610 - accuracy: 0.5171 - val_loss: 1.3997 - val_accuracy: 0.5399\n",
      "Epoch 9/10\n",
      "37500/37500 [==============================] - 114s 3ms/step - loss: 1.3429 - accuracy: 0.5225 - val_loss: 1.4067 - val_accuracy: 0.5358\n",
      "Epoch 10/10\n",
      "37500/37500 [==============================] - 106s 3ms/step - loss: 1.3157 - accuracy: 0.5339 - val_loss: 1.4060 - val_accuracy: 0.5375\n",
      "keys = dict_keys(['val_loss', 'val_accuracy', 'loss', 'accuracy'])\n"
     ]
    },
    {
     "data": {
      "image/png": "[encoded data removed]",
      "text/plain": [
       "<Figure size 432x288 with 1 Axes>"
      ]
     },
     "metadata": {
      "needs_background": "light"
     },
     "output_type": "display_data"
    },
    {
     "name": "stdout",
     "output_type": "stream",
     "text": [
      "10000/10000 [==============================] - 6s 590us/step\n",
      "accuracy = 0.5449000000953674\n"
     ]
    }
   ],
   "source": [
    "compile_model('categorical_crossentropy')"
   ]
  },
  {
   "cell_type": "code",
   "execution_count": 81,
   "metadata": {},
   "outputs": [
    {
     "name": "stdout",
     "output_type": "stream",
     "text": [
      "Train on 37500 samples, validate on 12500 samples\n",
      "Epoch 1/10\n",
      "37500/37500 [==============================] - 112s 3ms/step - loss: 0.0591 - accuracy: 0.5461 - val_loss: 0.0619 - val_accuracy: 0.5546\n",
      "Epoch 2/10\n",
      "37500/37500 [==============================] - 104s 3ms/step - loss: 0.0591 - accuracy: 0.5461 - val_loss: 0.0617 - val_accuracy: 0.5565\n",
      "Epoch 3/10\n",
      "37500/37500 [==============================] - 104s 3ms/step - loss: 0.0591 - accuracy: 0.5454 - val_loss: 0.0616 - val_accuracy: 0.5578\n",
      "Epoch 4/10\n",
      "37500/37500 [==============================] - 107s 3ms/step - loss: 0.0590 - accuracy: 0.5460 - val_loss: 0.0614 - val_accuracy: 0.5574\n",
      "Epoch 5/10\n",
      "37500/37500 [==============================] - 103s 3ms/step - loss: 0.0589 - accuracy: 0.5441 - val_loss: 0.0614 - val_accuracy: 0.5590\n",
      "Epoch 6/10\n",
      "37500/37500 [==============================] - 103s 3ms/step - loss: 0.0588 - accuracy: 0.5471 - val_loss: 0.0613 - val_accuracy: 0.5598\n",
      "Epoch 7/10\n",
      "37500/37500 [==============================] - 107s 3ms/step - loss: 0.0587 - accuracy: 0.5486 - val_loss: 0.0613 - val_accuracy: 0.5601\n",
      "Epoch 8/10\n",
      "37500/37500 [==============================] - 106s 3ms/step - loss: 0.0588 - accuracy: 0.5466 - val_loss: 0.0612 - val_accuracy: 0.5610\n",
      "Epoch 9/10\n",
      "37500/37500 [==============================] - 109s 3ms/step - loss: 0.0587 - accuracy: 0.5491 - val_loss: 0.0611 - val_accuracy: 0.5605\n",
      "Epoch 10/10\n",
      "37500/37500 [==============================] - 106s 3ms/step - loss: 0.0586 - accuracy: 0.5498 - val_loss: 0.0611 - val_accuracy: 0.5612\n",
      "keys = dict_keys(['val_loss', 'val_accuracy', 'loss', 'accuracy'])\n"
     ]
    },
    {
     "data": {
      "image/png": "[encoded data removed]",
      "text/plain": [
       "<Figure size 432x288 with 1 Axes>"
      ]
     },
     "metadata": {
      "needs_background": "light"
     },
     "output_type": "display_data"
    },
    {
     "name": "stdout",
     "output_type": "stream",
     "text": [
      "10000/10000 [==============================] - 6s 589us/step\n",
      "accuracy = 0.5648000240325928\n"
     ]
    }
   ],
   "source": [
    "compile_model('mean_squared_error')"
   ]
  },
  {
   "cell_type": "code",
   "execution_count": 82,
   "metadata": {},
   "outputs": [
    {
     "name": "stdout",
     "output_type": "stream",
     "text": [
      "Train on 37500 samples, validate on 12500 samples\n",
      "Epoch 1/10\n",
      "37500/37500 [==============================] - 110s 3ms/step - loss: 0.1987 - accuracy: 0.9222 - val_loss: 0.2091 - val_accuracy: 0.9166\n",
      "Epoch 2/10\n",
      "37500/37500 [==============================] - 103s 3ms/step - loss: 0.1983 - accuracy: 0.9220 - val_loss: 0.2082 - val_accuracy: 0.9171\n",
      "Epoch 3/10\n",
      "37500/37500 [==============================] - 100s 3ms/step - loss: 0.1977 - accuracy: 0.9225 - val_loss: 0.2076 - val_accuracy: 0.9174\n",
      "Epoch 4/10\n",
      "37500/37500 [==============================] - 105s 3ms/step - loss: 0.1976 - accuracy: 0.9225 - val_loss: 0.2075 - val_accuracy: 0.9174\n",
      "Epoch 5/10\n",
      "37500/37500 [==============================] - 104s 3ms/step - loss: 0.1973 - accuracy: 0.9227 - val_loss: 0.2070 - val_accuracy: 0.9175\n",
      "Epoch 6/10\n",
      "37500/37500 [==============================] - 108s 3ms/step - loss: 0.1966 - accuracy: 0.9229 - val_loss: 0.2066 - val_accuracy: 0.9179\n",
      "Epoch 7/10\n",
      "37500/37500 [==============================] - 112s 3ms/step - loss: 0.1962 - accuracy: 0.9230 - val_loss: 0.2060 - val_accuracy: 0.9180\n",
      "Epoch 8/10\n",
      "37500/37500 [==============================] - 101s 3ms/step - loss: 0.1964 - accuracy: 0.9228 - val_loss: 0.2058 - val_accuracy: 0.9182\n",
      "Epoch 9/10\n",
      "37500/37500 [==============================] - 105s 3ms/step - loss: 0.1958 - accuracy: 0.9233 - val_loss: 0.2063 - val_accuracy: 0.9180\n",
      "Epoch 10/10\n",
      "37500/37500 [==============================] - 108s 3ms/step - loss: 0.1953 - accuracy: 0.9233 - val_loss: 0.2055 - val_accuracy: 0.9185\n",
      "keys = dict_keys(['val_loss', 'val_accuracy', 'loss', 'accuracy'])\n"
     ]
    },
    {
     "data": {
      "image/png": "[encoded data removed]",
      "text/plain": [
       "<Figure size 432x288 with 1 Axes>"
      ]
     },
     "metadata": {
      "needs_background": "light"
     },
     "output_type": "display_data"
    },
    {
     "name": "stdout",
     "output_type": "stream",
     "text": [
      "10000/10000 [==============================] - 5s 521us/step\n",
      "accuracy = 0.918610155582428\n"
     ]
    }
   ],
   "source": [
    "\n",
    "compile_model('binary_crossentropy')"
   ]
  },
  {
   "cell_type": "code",
   "execution_count": null,
   "metadata": {},
   "outputs": [],
   "source": []
  }
 ],
 "metadata": {
  "colab": {
   "name": "Day71-使用損失函數_HW.ipynb",
   "provenance": [],
   "version": "0.3.2"
  },
  "kernelspec": {
   "display_name": "Python 3",
   "language": "python",
   "name": "python3"
  },
  "language_info": {
   "codemirror_mode": {
    "name": "ipython",
    "version": 3
   },
   "file_extension": ".py",
   "mimetype": "text/x-python",
   "name": "python",
   "nbconvert_exporter": "python",
   "pygments_lexer": "ipython3",
   "version": "3.7.3"
  }
 },
 "nbformat": 4,
 "nbformat_minor": 1
}
