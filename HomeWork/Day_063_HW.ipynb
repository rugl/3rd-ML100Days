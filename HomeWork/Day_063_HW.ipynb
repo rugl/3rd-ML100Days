{
 "cells": [
  {
   "cell_type": "markdown",
   "metadata": {},
   "source": [
    "# 作業\n",
    "* 在精簡深度學習的方式上 : 卷積類神經 (CNN) 採用像素遠近，而遞歸類神經 (RNN) 採用著則是時間遠近\n",
    "* 那麼，既然有著類似的設計精神，兩者是否有可能互換應用呢?"
   ]
  },
  {
   "cell_type": "markdown",
   "metadata": {
    "collapsed": true
   },
   "source": [
    "兩者的維度並不相同 (圖像-2維, 時序問題-1維)，現實實務上，兩者確實是存在互換空間的時序問題使用CNN"
   ]
  },
  {
   "cell_type": "markdown",
   "metadata": {},
   "source": [
    "<ul>\n",
    "<li>既然可以採用 2 維的「卷積核(convolution kernel)」篩選特徵，來對前後層來進行連接關係.\n",
    "    (當然也存在對應的 1 維卷積 (稱為 1d-CNN),但是 1d-CNN 就不適合再拿去做 2 維的圖像辨識了，而是專注抓取序列中重複出現的關鍵片段 常與進階版的 RNN-長短期記憶網路(LSTM) 搭配使用，用來預測股市等時序型問題)</li>\n",
    "<li>RNN的運作原理是將 神經元的輸出 在下一個時間段中當作特徵 輸入，不斷地循環。</li>\n",
    "</ul>\n"
   ]
  },
  {
   "cell_type": "markdown",
   "metadata": {},
   "source": [
    "圖像類問題使用RNN, 如果影像某個軸向有連續的現象，則RNN也可以處理這類較狹義的圖像問題"
   ]
  },
  {
   "cell_type": "markdown",
   "metadata": {},
   "source": [
    "<ul>\n",
    "<li>CNN空間擴展，神經元與特徵卷積，用於靜態輸出。特點是善於抽取位置不變特徵。</li>\n",
    "<li>RNN時間擴展，神經元與多個時間輸出計算。可以用於描述時間上連續狀態的輸出，有記憶功能。</li>\n",
    "    </ul>"
   ]
  },
  {
   "cell_type": "markdown",
   "metadata": {},
   "source": [
    "卷積層："
   ]
  },
  {
   "cell_type": "markdown",
   "metadata": {},
   "source": [
    "在數學裡的卷積是一種循環函數，在 CNN 裡卷積存在於兩個矩陣（以列和行排列的矩形數字陣列）之間，以形成第三個輸出用的矩陣。"
   ]
  },
  {
   "cell_type": "markdown",
   "metadata": {},
   "source": [
    "CNN 在卷積層裡使用這些卷積來過濾輸入的資料和查找資訊。"
   ]
  },
  {
   "cell_type": "code",
   "execution_count": 5,
   "metadata": {},
   "outputs": [
    {
     "ename": "SyntaxError",
     "evalue": "invalid syntax (<ipython-input-5-2f3cb8ae0375>, line 1)",
     "output_type": "error",
     "traceback": [
      "\u001b[1;36m  File \u001b[1;32m\"<ipython-input-5-2f3cb8ae0375>\"\u001b[1;36m, line \u001b[1;32m1\u001b[0m\n\u001b[1;33m    (https://github.com/rugl/3rd-ML100Days/blob/master/HomeWork/CNN.png)\u001b[0m\n\u001b[1;37m          ^\u001b[0m\n\u001b[1;31mSyntaxError\u001b[0m\u001b[1;31m:\u001b[0m invalid syntax\n"
     ]
    }
   ],
   "source": [
    "(https://github.com/rugl/3rd-ML100Days/blob/master/HomeWork/CNN.png)"
   ]
  },
  {
   "cell_type": "markdown",
   "metadata": {},
   "source": [
    "卷積層在 CNN 中負擔多數繁重的運算工作，當成數學過濾器以幫助電腦找出影像邊緣、暗區和亮區、顏色，以及高度、寬度和深度等其它細節。"
   ]
  },
  {
   "cell_type": "markdown",
   "metadata": {},
   "source": [
    "通常會在一個影像上使用多個卷積層過濾器。"
   ]
  },
  {
   "cell_type": "markdown",
   "metadata": {},
   "source": [
    "池化層：池化層（pooling layer）通常夾在卷積層之間，用於減小卷積層創造出的表示內容大小，還有減少對記憶體的需求，以置入更多卷積層。"
   ]
  },
  {
   "cell_type": "markdown",
   "metadata": {},
   "source": [
    "歸一化層：歸一化（normalization）是一種用於提升神經網路效能和穩定性的技術，將所有輸入內容轉換成均值為0、變異數為1的情況，以便更容易管理各層的輸入內容。可以把標準化視為用以規範資料的角色。"
   ]
  },
  {
   "cell_type": "markdown",
   "metadata": {},
   "source": [
    "全連結層：全連結層（fully connected layer）用於將一層裡的各神經元連接到另一層裡的所有神經元。"
   ]
  },
  {
   "cell_type": "markdown",
   "metadata": {},
   "source": [
    " <ul>\n",
    "    <li>CNN主要針對圖片等「靜態的類型」(如:處理電腦視覺作業,不過要是提供充足資料給 CNN)做分類</li>\n",
    "    <li>而RNN主要針對影片、語音等「動態的類型」做分類, 不單能用於處理自然語言和語音辨識，還能用於語言翻譯、股票預測和演算法交易。</li>\n",
    "    </ul>"
   ]
  },
  {
   "cell_type": "code",
   "execution_count": null,
   "metadata": {},
   "outputs": [],
   "source": []
  }
 ],
 "metadata": {
  "kernelspec": {
   "display_name": "Python 3",
   "language": "python",
   "name": "python3"
  },
  "language_info": {
   "codemirror_mode": {
    "name": "ipython",
    "version": 3
   },
   "file_extension": ".py",
   "mimetype": "text/x-python",
   "name": "python",
   "nbconvert_exporter": "python",
   "pygments_lexer": "ipython3",
   "version": "3.7.3"
  }
 },
 "nbformat": 4,
 "nbformat_minor": 2
}
